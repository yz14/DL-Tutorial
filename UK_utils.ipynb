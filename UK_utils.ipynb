{
 "metadata": {
  "language_info": {
   "codemirror_mode": {
    "name": "ipython",
    "version": 3
   },
   "file_extension": ".py",
   "mimetype": "text/x-python",
   "name": "python",
   "nbconvert_exporter": "python",
   "pygments_lexer": "ipython3",
   "version": "3.7.6-final"
  },
  "orig_nbformat": 2,
  "kernelspec": {
   "name": "python3",
   "display_name": "Python 3",
   "language": "python"
  }
 },
 "nbformat": 4,
 "nbformat_minor": 2,
 "cells": [
  {
   "source": [
    "# Some preprocessing on UKBioBank  \n",
    "For easy loading, a fold should include all the data, e.g.,  \n",
    "* DataFold//  \n",
    "  subject1.txt  \n",
    "  subject2.txt  \n",
    "  ..."
   ],
   "cell_type": "markdown",
   "metadata": {}
  },
  {
   "cell_type": "code",
   "execution_count": 1,
   "metadata": {},
   "outputs": [],
   "source": [
    "from pandas import read_csv\n",
    "import numpy as np\n",
    "import os"
   ]
  },
  {
   "source": [
    "## 1. Data Processing"
   ],
   "cell_type": "markdown",
   "metadata": {}
  },
  {
   "cell_type": "code",
   "execution_count": 2,
   "metadata": {},
   "outputs": [],
   "source": [
    "def triu_mask(n):\n",
    "    \"\"\"Upper triangular mask of a n*n matrix\"\"\"\n",
    "    m = np.ones((n, n))\n",
    "    m = np.triu(m, k=1) > 0.5 # do not include diagonal\n",
    "    return m\n",
    "\n",
    "def compute_tc_fc_fcu(fn, good_components, mask):\n",
    "    tc100 = np.loadtxt(fn) # oringinal data\n",
    "    tc55 = tc100[:, good_components]\n",
    "    fc55 = np.corrcoef(tc55.T) # Pearson's Correlation\n",
    "    fcu55 = fc55[mask] #  Upper triangular part\n",
    "    return tc100, tc55, fc55, fcu55"
   ]
  },
  {
   "cell_type": "code",
   "execution_count": 3,
   "metadata": {},
   "outputs": [
    {
     "output_type": "stream",
     "name": "stdout",
     "text": [
      "[[ 0  1  2  3]\n [ 4  5  6  7]\n [ 8  9 10 11]\n [12 13 14 15]]\n[ 1  2  3  6  7 11]\n"
     ]
    }
   ],
   "source": [
    "# Example, about triu_mask\n",
    "x = np.arange(16).reshape(4,4)\n",
    "print(x)\n",
    "mask = triu_mask(x.shape[0])\n",
    "print(x[mask])"
   ]
  },
  {
   "source": [
    "#### Note,\n",
    "* $\\textbf{sex}$ is a $n \\times 1$ vector, 0 means woman, 1 means man, and some subject miss this information and represented by $\\textbf{nan}$  \n",
    "* $\\textbf{age}$ is a $n \\times 3$ matrix (I guess age of a subject maybe updated and stored in last two columns)  \n",
    "\n",
    "Let's see a example"
   ],
   "cell_type": "markdown",
   "metadata": {}
  },
  {
   "cell_type": "code",
   "execution_count": 4,
   "metadata": {},
   "outputs": [],
   "source": [
    "f_nan = lambda x: -1 if str(x) == 'nan' else int(x)\n",
    "\n",
    "def save_sex_age(path, ids, inf):\n",
    "    total_ids = inf.eId.values\n",
    "    sex = inf.sex.values\n",
    "    age = inf.age.values\n",
    "\n",
    "    y_sex, y_age = [], []\n",
    "    for i in ids:\n",
    "        pos = np.where(total_ids == i)[0] # find position\n",
    "        if len(pos): # exist\n",
    "            y_sex.append(f_nan(sex[pos[0]])) # woman: 0, man: 1, nan: -1\n",
    "            y_age.append(max(list(map(f_nan, age[p[0]])))) # newest age\n",
    "    np.savetxt(os.path.join(path, 'sex.txt'), y_sex, fmt='%d')\n",
    "    np.savetxt(os.path.join(path, 'age.txt'), y_age, fmt='%d')"
   ]
  },
  {
   "cell_type": "code",
   "execution_count": 5,
   "metadata": {},
   "outputs": [
    {
     "output_type": "stream",
     "name": "stdout",
     "text": [
      "0\n1\n-1\n\n45\n53\n70\n\n"
     ]
    }
   ],
   "source": [
    "# sex\n",
    "sex = [0, 1, 'nan']\n",
    "[print(f_nan(v)) for v in sex]\n",
    "print()\n",
    "\n",
    "# age\n",
    "age = np.array([\\\n",
    "    [45, 'nan', 'nan'],\\\n",
    "        [48, 53, 'nan'],\\\n",
    "            [47, 52, 70]])\n",
    "[print(max(list(map(f_nan, v)))) for v in age]\n",
    "print()"
   ]
  },
  {
   "cell_type": "code",
   "execution_count": null,
   "metadata": {},
   "outputs": [],
   "source": [
    "good_components = np.loadtxt(path_to_good_componets) - 1 # start from 0 in Numpy\n",
    "inf = read_csv(path_to_information) # UK information file\n",
    "mask = triu_mask(55)\n",
    "\n",
    "def process(path1, path2, good_components, inf, mask):\n",
    "    \"\"\"extract and rename files in path1 to path2\"\"\"\n",
    "    types = ['tc100', 'tc55', 'fc55', 'fcu55']\n",
    "    raw_fns = os.listdir(path1) # path1 includes all subjects\n",
    "    target = '/rfMRI/rfMRI_100.dr/dr_stage1.txt'\n",
    "    sub_ids = []\n",
    "\n",
    "    for rf in raw_fns:\n",
    "        sub_id = rf.split('_')[0] # id\n",
    "        fn = os.path.join(path1, rf, target)\n",
    "        if os.path.exists(fn):\n",
    "            sub_ids.append(sub_id)\n",
    "            data = compute_tc_fc_fcu(fn, good_components, mask)\n",
    "            for t,d in zip(types, data):\n",
    "                to_path = os.path.join(path2, t, '{}.txt'.format(sub_id))\n",
    "                np.savetxt(to_path, d, fmt='%.10e')\n",
    "    save_sex_age(path2, sub_ids, inf)"
   ]
  },
  {
   "source": [
    "## 2. Load Data  \n",
    "Why I do this? Suppose you want perform age classification, and if you have:  \n",
    "* a fold contains all the files \n",
    "* sub_ids and its corresponding  \n",
    "* ages  \n",
    "\n",
    "then, based on their ID one can load its corresponding data, so that data and labels are matched. Otherwise, some error may occur (e.g., load wrong age)"
   ],
   "cell_type": "markdown",
   "metadata": {}
  },
  {
   "cell_type": "code",
   "execution_count": 6,
   "metadata": {},
   "outputs": [],
   "source": [
    "labels = [1,1,0,0]\n",
    "data = np.vstack([np.random.randn(14) for i in range(4)]) # load txt"
   ]
  },
  {
   "cell_type": "code",
   "execution_count": 7,
   "metadata": {},
   "outputs": [],
   "source": [
    "data = [(x,y) for x,y in zip(data, labels)]"
   ]
  }
 ]
}